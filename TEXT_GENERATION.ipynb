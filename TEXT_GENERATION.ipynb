This is a companion notebook for the book Deep Learning with Python, Second Edition. For readability, it only contains runnable code blocks and section titles, and omits everything else in the book: text paragraphs, figures, and pseudocode.

If you want to be able to follow what's going on, I recommend reading the notebook side by side with your copy of the book.

This notebook was generated for TensorFlow 2.6.

Generative deep learning
Text generation
A brief history of generative deep learning for sequence generation
How do you generate sequence data?
The importance of the sampling strategy
Reweighting a probability distribution to a different temperature

In [ ] :import numpy as np
def reweight_distribution(original_distribution, temperature=0.5):
    distribution = np.log(original_distribution) / temperature
    distribution = np.exp(distribution)
    return distribution / np.sum(distribution)
